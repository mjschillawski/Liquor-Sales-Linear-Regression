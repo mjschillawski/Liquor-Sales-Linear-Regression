{
 "cells": [
  {
   "cell_type": "code",
   "execution_count": 1,
   "metadata": {
    "collapsed": true
   },
   "outputs": [],
   "source": [
    "import pandas as pd\n",
    "import numpy as np\n",
    "import matplotlib.pyplot as plt\n",
    "import scipy.stats as stats\n",
    "import seaborn as sns\n",
    "\n",
    "from sklearn import datasets, linear_model\n",
    "from sklearn.metrics import mean_squared_error\n",
    "\n",
    "import random\n",
    "\n",
    "%matplotlib inline"
   ]
  },
  {
   "cell_type": "code",
   "execution_count": 2,
   "metadata": {},
   "outputs": [
    {
     "name": "stderr",
     "output_type": "stream",
     "text": [
      "/Users/mjschillawski/anaconda3/lib/python3.6/site-packages/IPython/core/interactiveshell.py:2698: DtypeWarning: Columns (6) have mixed types. Specify dtype option on import or set low_memory=False.\n",
      "  interactivity=interactivity, compiler=compiler, result=result)\n"
     ]
    }
   ],
   "source": [
    "path = '/Users/mjschillawski/Google Drive/Data/generalassembly/data/'\n",
    "filename = 'Iowa_Liquor_Sales.csv'\n",
    "\n",
    "## Load the data into a DataFrame\n",
    "data = pd.read_csv(path+filename)\n",
    "\n",
    "## Transform the dates if needed, e.g.\n",
    "data[\"Date\"] = pd.to_datetime(data[\"Date\"])"
   ]
  },
  {
   "cell_type": "code",
   "execution_count": 5,
   "metadata": {
    "collapsed": true
   },
   "outputs": [],
   "source": [
    "def DataInspect(dataframe):\n",
    "    '''Original function (previously called eda) created by Ritika Bhasker\n",
    "       Good first step when starting any project. Provides overview of\n",
    "       dataset including missing values, duplicates and types.\n",
    "       Takes a Pandas dataframe as the argument.'''\n",
    "    print(\"Dataframe Shape:\", dataframe.shape,\"\\n\")\n",
    "    print(\"Duplicate Rows:\", dataframe.duplicated().sum(),\"\\n\") #Added this\n",
    "    print(\"Dataframe Types \\n\\n\", dataframe.dtypes,\"\\n\")    \n",
    "    print(\"Missing Values \\n\\n\", dataframe.isnull().sum(),\"\\n\")\n",
    "    print(\"Dataframe Describe \\n\\n\", dataframe.describe(include='all'),\"\\n\")\n",
    "\n",
    "\n",
    "    print('Unique Values by Variable')\n",
    "    for item in dataframe:\n",
    "        print(item,':',dataframe[item].nunique())"
   ]
  },
  {
   "cell_type": "code",
   "execution_count": 6,
   "metadata": {
    "collapsed": true
   },
   "outputs": [],
   "source": [
    "data.rename(columns={'Date':'date', 'Store Number':'storenum', 'City':'city', \n",
    "                     'Zip Code':'zipcode', 'County Number':'countynum', \n",
    "                     'County':'county',\n",
    "                     'Category':'category', 'Category Name':'categoryname', \n",
    "                     'Vendor Number':'vendornum',\n",
    "                     'Item Number':'itemnum','Item Description':'itemdescription', \n",
    "                     'Bottle Volume (ml)':'bottlevol_ml', \n",
    "                     'State Bottle Cost':'statebottlecost',\n",
    "                     'State Bottle Retail':'statebottleretail', \n",
    "                     'Bottles Sold':'bottlessold', \n",
    "                     'Sale (Dollars)':'sale_dollars',\n",
    "                     'Volume Sold (Liters)':'volsold_liters', \n",
    "                     'Volume Sold (Gallons)':'volsold_gallons'},inplace=True)"
   ]
  },
  {
   "cell_type": "code",
   "execution_count": 7,
   "metadata": {},
   "outputs": [
    {
     "name": "stdout",
     "output_type": "stream",
     "text": [
      "Dataframe Shape: (13189891, 24) \n",
      "\n",
      "Duplicate Rows: 0 \n",
      "\n",
      "Dataframe Types \n",
      "\n",
      " Invoice/Item Number            object\n",
      "date                   datetime64[ns]\n",
      "storenum                        int64\n",
      "Store Name                     object\n",
      "Address                        object\n",
      "city                           object\n",
      "zipcode                        object\n",
      "Store Location                 object\n",
      "countynum                     float64\n",
      "county                         object\n",
      "category                      float64\n",
      "categoryname                   object\n",
      "vendornum                     float64\n",
      "Vendor Name                    object\n",
      "itemnum                         int64\n",
      "itemdescription                object\n",
      "Pack                            int64\n",
      "bottlevol_ml                    int64\n",
      "statebottlecost                object\n",
      "statebottleretail              object\n",
      "bottlessold                     int64\n",
      "sale_dollars                   object\n",
      "volsold_liters                float64\n",
      "volsold_gallons               float64\n",
      "dtype: object \n",
      "\n",
      "Missing Values \n",
      "\n",
      " Invoice/Item Number        0\n",
      "date                       0\n",
      "storenum                   0\n",
      "Store Name                 0\n",
      "Address                 3282\n",
      "city                    3281\n",
      "zipcode                 3326\n",
      "Store Location          3281\n",
      "countynum              80086\n",
      "county                 80084\n",
      "category                9853\n",
      "categoryname           17919\n",
      "vendornum                  4\n",
      "Vendor Name                2\n",
      "itemnum                    0\n",
      "itemdescription            0\n",
      "Pack                       0\n",
      "bottlevol_ml               0\n",
      "statebottlecost           10\n",
      "statebottleretail         10\n",
      "bottlessold                0\n",
      "sale_dollars              10\n",
      "volsold_liters             0\n",
      "volsold_gallons            0\n",
      "dtype: int64 \n",
      "\n",
      "Dataframe Describe \n",
      "\n",
      "        Invoice/Item Number                 date      storenum  \\\n",
      "count             13189891             13189891  1.318989e+07   \n",
      "unique            13189891                 1441           NaN   \n",
      "top           S17366700017  2017-12-22 00:00:00           NaN   \n",
      "freq                     1                16674           NaN   \n",
      "first                  NaN  2012-01-03 00:00:00           NaN   \n",
      "last                   NaN  2018-01-31 00:00:00           NaN   \n",
      "mean                   NaN                  NaN  3.575723e+03   \n",
      "std                    NaN                  NaN  9.401560e+02   \n",
      "min                    NaN                  NaN  2.106000e+03   \n",
      "25%                    NaN                  NaN  2.604000e+03   \n",
      "50%                    NaN                  NaN  3.707000e+03   \n",
      "75%                    NaN                  NaN  4.312000e+03   \n",
      "max                    NaN                  NaN  9.936000e+03   \n",
      "\n",
      "                          Store Name          Address        city   zipcode  \\\n",
      "count                       13189891         13186609    13186610  13186565   \n",
      "unique                          2033             3194         797       876   \n",
      "top     Hy-Vee #3 / BDI / Des Moines  3221 SE 14TH ST  DES MOINES     52402   \n",
      "freq                          116876           110543      811086    251474   \n",
      "first                            NaN              NaN         NaN       NaN   \n",
      "last                             NaN              NaN         NaN       NaN   \n",
      "mean                             NaN              NaN         NaN       NaN   \n",
      "std                              NaN              NaN         NaN       NaN   \n",
      "min                              NaN              NaN         NaN       NaN   \n",
      "25%                              NaN              NaN         NaN       NaN   \n",
      "50%                              NaN              NaN         NaN       NaN   \n",
      "75%                              NaN              NaN         NaN       NaN   \n",
      "max                              NaN              NaN         NaN       NaN   \n",
      "\n",
      "                                           Store Location     countynum  \\\n",
      "count                                            13186610  1.310980e+07   \n",
      "unique                                               4569           NaN   \n",
      "top     3221 SE 14TH ST\\nDES MOINES 50320\\n(41.554101,...           NaN   \n",
      "freq                                                81420           NaN   \n",
      "first                                                 NaN           NaN   \n",
      "last                                                  NaN           NaN   \n",
      "mean                                                  NaN  5.724586e+01   \n",
      "std                                                   NaN  2.727865e+01   \n",
      "min                                                   NaN  1.000000e+00   \n",
      "25%                                                   NaN  3.100000e+01   \n",
      "50%                                                   NaN  6.200000e+01   \n",
      "75%                                                   NaN  7.700000e+01   \n",
      "max                                                   NaN  9.900000e+01   \n",
      "\n",
      "          county       ...             itemnum itemdescription          Pack  \\\n",
      "count   13109807       ...        1.318989e+07        13189891  1.318989e+07   \n",
      "unique       201       ...                 NaN            6093           NaN   \n",
      "top         Polk       ...                 NaN    Black Velvet           NaN   \n",
      "freq     1845698       ...                 NaN          347025           NaN   \n",
      "first        NaN       ...                 NaN             NaN           NaN   \n",
      "last         NaN       ...                 NaN             NaN           NaN   \n",
      "mean         NaN       ...        4.612624e+04             NaN  1.223630e+01   \n",
      "std          NaN       ...        5.366631e+04             NaN  7.476079e+00   \n",
      "min          NaN       ...        1.010000e+02             NaN  1.000000e+00   \n",
      "25%          NaN       ...        2.703700e+04             NaN  6.000000e+00   \n",
      "50%          NaN       ...        3.817700e+04             NaN  1.200000e+01   \n",
      "75%          NaN       ...        6.413500e+04             NaN  1.200000e+01   \n",
      "max          NaN       ...        9.992750e+05             NaN  6.000000e+02   \n",
      "\n",
      "        bottlevol_ml  statebottlecost statebottleretail   bottlessold  \\\n",
      "count   1.318989e+07         13189881          13189881  1.318989e+07   \n",
      "unique           NaN             2797              3258           NaN   \n",
      "top              NaN            $8.25            $12.38           NaN   \n",
      "freq             NaN           251622            198438           NaN   \n",
      "first            NaN              NaN               NaN           NaN   \n",
      "last             NaN              NaN               NaN           NaN   \n",
      "mean    9.276698e+02              NaN               NaN  7.872181e+00   \n",
      "std     7.252317e+02              NaN               NaN  2.171563e+01   \n",
      "min     0.000000e+00              NaN               NaN  0.000000e+00   \n",
      "25%     7.500000e+02              NaN               NaN  2.000000e+00   \n",
      "50%     7.500000e+02              NaN               NaN  4.000000e+00   \n",
      "75%     1.000000e+03              NaN               NaN  1.200000e+01   \n",
      "max     3.780000e+05              NaN               NaN  1.500000e+04   \n",
      "\n",
      "        sale_dollars volsold_liters volsold_gallons  \n",
      "count       13189881   1.318989e+07    1.318989e+07  \n",
      "unique         23173            NaN             NaN  \n",
      "top          $162.00            NaN             NaN  \n",
      "freq           92977            NaN             NaN  \n",
      "first            NaN            NaN             NaN  \n",
      "last             NaN            NaN             NaN  \n",
      "mean             NaN   7.235103e+00    1.910049e+00  \n",
      "std              NaN   2.621999e+01    6.926886e+00  \n",
      "min              NaN   0.000000e+00    0.000000e+00  \n",
      "25%              NaN   1.500000e+00    3.900000e-01  \n",
      "50%              NaN   3.000000e+00    7.900000e-01  \n",
      "75%              NaN   9.000000e+00    2.380000e+00  \n",
      "max              NaN   1.500000e+04    3.962580e+03  \n",
      "\n",
      "[13 rows x 24 columns] \n",
      "\n",
      "Unique Values by Variable\n",
      "Invoice/Item Number : 13189891\n",
      "date : 1441\n",
      "storenum : 1921\n",
      "Store Name : 2033\n",
      "Address : 3194\n",
      "city : 797\n",
      "zipcode : 876\n",
      "Store Location : 4569\n",
      "countynum : 99\n",
      "county : 201\n",
      "category : 107\n",
      "categoryname : 130\n",
      "vendornum : 282\n",
      "Vendor Name : 407\n",
      "itemnum : 7557\n",
      "itemdescription : 6093\n",
      "Pack : 30\n",
      "bottlevol_ml : 49\n",
      "statebottlecost : 2797\n",
      "statebottleretail : 3258\n",
      "bottlessold : 452\n",
      "sale_dollars : 23173\n",
      "volsold_liters : 1212\n",
      "volsold_gallons : 1212\n"
     ]
    }
   ],
   "source": [
    "DataInspect(data)"
   ]
  },
  {
   "cell_type": "code",
   "execution_count": 13,
   "metadata": {},
   "outputs": [
    {
     "name": "stdout",
     "output_type": "stream",
     "text": [
      "(2097796, 24)\n"
     ]
    }
   ],
   "source": [
    "#subset 2014 data\n",
    "#for predictions later\n",
    "train2014 = data[np.logical_and(data['date'] > '2013-12-31',data['date'] < '2015-01-01')]\n",
    "print(train2014.shape)"
   ]
  },
  {
   "cell_type": "code",
   "execution_count": 14,
   "metadata": {},
   "outputs": [
    {
     "data": {
      "text/plain": [
       "count                 2097796\n",
       "unique                    222\n",
       "top       2014-12-29 00:00:00\n",
       "freq                    15996\n",
       "first     2014-01-02 00:00:00\n",
       "last      2014-12-31 00:00:00\n",
       "Name: date, dtype: object"
      ]
     },
     "execution_count": 14,
     "metadata": {},
     "output_type": "execute_result"
    }
   ],
   "source": [
    "train2014['date'].describe()"
   ]
  },
  {
   "cell_type": "code",
   "execution_count": 15,
   "metadata": {
    "collapsed": true
   },
   "outputs": [],
   "source": [
    "train2014.to_csv('iowa_liquor_2014.csv')"
   ]
  },
  {
   "cell_type": "code",
   "execution_count": null,
   "metadata": {
    "collapsed": true
   },
   "outputs": [],
   "source": []
  }
 ],
 "metadata": {
  "kernelspec": {
   "display_name": "Python 3",
   "language": "python",
   "name": "python3"
  },
  "language_info": {
   "codemirror_mode": {
    "name": "ipython",
    "version": 3
   },
   "file_extension": ".py",
   "mimetype": "text/x-python",
   "name": "python",
   "nbconvert_exporter": "python",
   "pygments_lexer": "ipython3",
   "version": "3.6.4"
  }
 },
 "nbformat": 4,
 "nbformat_minor": 2
}
