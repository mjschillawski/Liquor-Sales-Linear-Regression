{
 "cells": [
  {
   "cell_type": "code",
   "execution_count": 1,
   "metadata": {
    "collapsed": true
   },
   "outputs": [],
   "source": [
    "import pandas as pd\n",
    "import numpy as np\n",
    "import matplotlib.pyplot as plt\n",
    "import scipy.stats as stats\n",
    "import seaborn as sns\n",
    "\n",
    "from sklearn import datasets, linear_model\n",
    "from sklearn.metrics import mean_squared_error,median_absolute_error\n",
    "from sklearn.model_selection import KFold, cross_val_score, cross_val_predict\n",
    "from sklearn import metrics\n",
    "\n",
    "\n",
    "import random\n",
    "\n",
    "%matplotlib inline"
   ]
  },
  {
   "cell_type": "code",
   "execution_count": 2,
   "metadata": {},
   "outputs": [
    {
     "name": "stderr",
     "output_type": "stream",
     "text": [
      "/Users/mjschillawski/anaconda3/lib/python3.6/site-packages/IPython/core/interactiveshell.py:2698: DtypeWarning: Columns (6) have mixed types. Specify dtype option on import or set low_memory=False.\n",
      "  interactivity=interactivity, compiler=compiler, result=result)\n"
     ]
    }
   ],
   "source": [
    "path = '/Users/mjschillawski/Google Drive/Data/generalassembly/data/'\n",
    "filename = 'Iowa_Liquor_Sales.csv'\n",
    "\n",
    "## Load the data into a DataFrame\n",
    "data = pd.read_csv(path+filename,usecols=['Date','Store Number','City', \n",
    "                     'Zip Code','County Number','County','Sale (Dollars)'])\n",
    "                   \n",
    "## Transform the dates if needed, e.g.\n",
    "data[\"Date\"] = pd.to_datetime(data[\"Date\"])"
   ]
  },
  {
   "cell_type": "code",
   "execution_count": 4,
   "metadata": {},
   "outputs": [
    {
     "name": "stdout",
     "output_type": "stream",
     "text": [
      "(2279879, 7)\n"
     ]
    }
   ],
   "source": [
    "#subset 2016 data\n",
    "#for predictions later\n",
    "data2016 = data[np.logical_and(data['Date'] > '2015-12-31',data['Date'] < '2017-01-01')].copy()\n",
    "print(data2016.shape)"
   ]
  },
  {
   "cell_type": "code",
   "execution_count": 5,
   "metadata": {
    "collapsed": true
   },
   "outputs": [],
   "source": [
    "data2016.rename(columns={'Date':'date', 'Store Number':'storenum', 'City':'city', \n",
    "                     'Zip Code':'zipcode', 'County Number':'countynum', \n",
    "                     'County':'county',\n",
    "                     'Sale (Dollars)':'sale_dollars'},inplace=True)"
   ]
  },
  {
   "cell_type": "code",
   "execution_count": 8,
   "metadata": {},
   "outputs": [
    {
     "data": {
      "text/html": [
       "<div>\n",
       "<style>\n",
       "    .dataframe thead tr:only-child th {\n",
       "        text-align: right;\n",
       "    }\n",
       "\n",
       "    .dataframe thead th {\n",
       "        text-align: left;\n",
       "    }\n",
       "\n",
       "    .dataframe tbody tr th {\n",
       "        vertical-align: top;\n",
       "    }\n",
       "</style>\n",
       "<table border=\"1\" class=\"dataframe\">\n",
       "  <thead>\n",
       "    <tr style=\"text-align: right;\">\n",
       "      <th></th>\n",
       "      <th>date</th>\n",
       "      <th>storenum</th>\n",
       "      <th>city</th>\n",
       "      <th>zipcode</th>\n",
       "      <th>countynum</th>\n",
       "      <th>county</th>\n",
       "      <th>sale_dollars</th>\n",
       "    </tr>\n",
       "  </thead>\n",
       "  <tbody>\n",
       "    <tr>\n",
       "      <th>8427861</th>\n",
       "      <td>2016-01-26</td>\n",
       "      <td>3621</td>\n",
       "      <td>SHELDON</td>\n",
       "      <td>51201</td>\n",
       "      <td>71.0</td>\n",
       "      <td>O'Brien</td>\n",
       "      <td>32.25</td>\n",
       "    </tr>\n",
       "    <tr>\n",
       "      <th>8428102</th>\n",
       "      <td>2016-01-12</td>\n",
       "      <td>2552</td>\n",
       "      <td>CEDAR RAPIDS</td>\n",
       "      <td>52404</td>\n",
       "      <td>57.0</td>\n",
       "      <td>Linn</td>\n",
       "      <td>58.74</td>\n",
       "    </tr>\n",
       "    <tr>\n",
       "      <th>8428103</th>\n",
       "      <td>2016-01-13</td>\n",
       "      <td>2513</td>\n",
       "      <td>IOWA CITY</td>\n",
       "      <td>52240</td>\n",
       "      <td>52.0</td>\n",
       "      <td>Johnson</td>\n",
       "      <td>352.44</td>\n",
       "    </tr>\n",
       "    <tr>\n",
       "      <th>8428104</th>\n",
       "      <td>2016-01-13</td>\n",
       "      <td>3869</td>\n",
       "      <td>CORALVILLE</td>\n",
       "      <td>52241</td>\n",
       "      <td>52.0</td>\n",
       "      <td>Johnson</td>\n",
       "      <td>88.11</td>\n",
       "    </tr>\n",
       "    <tr>\n",
       "      <th>8428105</th>\n",
       "      <td>2016-01-14</td>\n",
       "      <td>2106</td>\n",
       "      <td>CEDAR FALLS</td>\n",
       "      <td>50613</td>\n",
       "      <td>7.0</td>\n",
       "      <td>Black Hawk</td>\n",
       "      <td>29.37</td>\n",
       "    </tr>\n",
       "  </tbody>\n",
       "</table>\n",
       "</div>"
      ],
      "text/plain": [
       "              date  storenum          city zipcode  countynum      county  \\\n",
       "8427861 2016-01-26      3621       SHELDON   51201       71.0     O'Brien   \n",
       "8428102 2016-01-12      2552  CEDAR RAPIDS   52404       57.0        Linn   \n",
       "8428103 2016-01-13      2513     IOWA CITY   52240       52.0     Johnson   \n",
       "8428104 2016-01-13      3869    CORALVILLE   52241       52.0     Johnson   \n",
       "8428105 2016-01-14      2106   CEDAR FALLS   50613        7.0  Black Hawk   \n",
       "\n",
       "         sale_dollars  \n",
       "8427861         32.25  \n",
       "8428102         58.74  \n",
       "8428103        352.44  \n",
       "8428104         88.11  \n",
       "8428105         29.37  "
      ]
     },
     "execution_count": 8,
     "metadata": {},
     "output_type": "execute_result"
    }
   ],
   "source": [
    "#Remove dollar signs and convert to numeric\n",
    "\n",
    "bad_col = ['sale_dollars']\n",
    "\n",
    "for item in bad_col:\n",
    "    data2016[item] = data2016[item].str.replace('$','')\n",
    "    data2016[item] = data2016[item].apply(pd.to_numeric)\n",
    "    \n",
    "data2016.head()"
   ]
  },
  {
   "cell_type": "code",
   "execution_count": 10,
   "metadata": {},
   "outputs": [
    {
     "data": {
      "text/html": [
       "<div>\n",
       "<style>\n",
       "    .dataframe thead tr:only-child th {\n",
       "        text-align: right;\n",
       "    }\n",
       "\n",
       "    .dataframe thead th {\n",
       "        text-align: left;\n",
       "    }\n",
       "\n",
       "    .dataframe tbody tr th {\n",
       "        vertical-align: top;\n",
       "    }\n",
       "</style>\n",
       "<table border=\"1\" class=\"dataframe\">\n",
       "  <thead>\n",
       "    <tr style=\"text-align: right;\">\n",
       "      <th></th>\n",
       "      <th>sale_dollars</th>\n",
       "    </tr>\n",
       "    <tr>\n",
       "      <th>storenum</th>\n",
       "      <th></th>\n",
       "    </tr>\n",
       "  </thead>\n",
       "  <tbody>\n",
       "    <tr>\n",
       "      <th>2106</th>\n",
       "      <td>1117638.44</td>\n",
       "    </tr>\n",
       "    <tr>\n",
       "      <th>2113</th>\n",
       "      <td>76449.09</td>\n",
       "    </tr>\n",
       "    <tr>\n",
       "      <th>2130</th>\n",
       "      <td>937379.42</td>\n",
       "    </tr>\n",
       "    <tr>\n",
       "      <th>2152</th>\n",
       "      <td>13752.24</td>\n",
       "    </tr>\n",
       "    <tr>\n",
       "      <th>2178</th>\n",
       "      <td>247210.77</td>\n",
       "    </tr>\n",
       "  </tbody>\n",
       "</table>\n",
       "</div>"
      ],
      "text/plain": [
       "          sale_dollars\n",
       "storenum              \n",
       "2106        1117638.44\n",
       "2113          76449.09\n",
       "2130         937379.42\n",
       "2152          13752.24\n",
       "2178         247210.77"
      ]
     },
     "execution_count": 10,
     "metadata": {},
     "output_type": "execute_result"
    }
   ],
   "source": [
    "#Annual 2016 totals by store\n",
    "stores2016 = data2016.groupby('storenum')[['sale_dollars']].sum()\n",
    "stores2016.head()"
   ]
  },
  {
   "cell_type": "code",
   "execution_count": 11,
   "metadata": {},
   "outputs": [
    {
     "data": {
      "text/plain": [
       "251531858.14999935"
      ]
     },
     "execution_count": 11,
     "metadata": {},
     "output_type": "execute_result"
    }
   ],
   "source": [
    "stores2016['sale_dollars'].sum()"
   ]
  },
  {
   "cell_type": "code",
   "execution_count": 12,
   "metadata": {},
   "outputs": [
    {
     "data": {
      "text/plain": [
       "251531858.15018967"
      ]
     },
     "execution_count": 12,
     "metadata": {},
     "output_type": "execute_result"
    }
   ],
   "source": [
    "data2016['sale_dollars'].sum()"
   ]
  },
  {
   "cell_type": "code",
   "execution_count": 13,
   "metadata": {},
   "outputs": [
    {
     "data": {
      "text/plain": [
       "count                 2279879\n",
       "unique                    246\n",
       "top       2016-06-28 00:00:00\n",
       "freq                    15107\n",
       "first     2016-01-04 00:00:00\n",
       "last      2016-12-30 00:00:00\n",
       "Name: date, dtype: object"
      ]
     },
     "execution_count": 13,
     "metadata": {},
     "output_type": "execute_result"
    }
   ],
   "source": [
    "data2016['date'].describe()"
   ]
  },
  {
   "cell_type": "code",
   "execution_count": null,
   "metadata": {
    "collapsed": true
   },
   "outputs": [],
   "source": []
  }
 ],
 "metadata": {
  "kernelspec": {
   "display_name": "Python 3",
   "language": "python",
   "name": "python3"
  },
  "language_info": {
   "codemirror_mode": {
    "name": "ipython",
    "version": 3
   },
   "file_extension": ".py",
   "mimetype": "text/x-python",
   "name": "python",
   "nbconvert_exporter": "python",
   "pygments_lexer": "ipython3",
   "version": "3.6.4"
  }
 },
 "nbformat": 4,
 "nbformat_minor": 2
}
